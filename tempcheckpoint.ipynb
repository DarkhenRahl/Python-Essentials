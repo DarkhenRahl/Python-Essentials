{
  "nbformat": 4,
  "nbformat_minor": 0,
  "metadata": {
    "colab": {
      "provenance": []
    },
    "kernelspec": {
      "name": "python3",
      "display_name": "Python 3"
    },
    "language_info": {
      "name": "python"
    }
  },
  "cells": [
    {
      "cell_type": "code",
      "execution_count": null,
      "metadata": {
        "id": "fVbL2m03Q3tL"
      },
      "outputs": [],
      "source": [
        "import tkinter as tk\n",
        "\n",
        "def fahrenheit_to_celsius():\n",
        "    \"\"\"Convert the temperature from Fahrenheit to Celsius and display the result.\"\"\"\n",
        "    try:\n",
        "        fahrenheit = float(ent_temperature.get())\n",
        "        celsius = (fahrenheit - 32) * 5 / 9\n",
        "        lbl_result[\"text\"] = f\"{round(celsius, 2)} \\N{DEGREE CELSIUS}\"\n",
        "    except ValueError:\n",
        "        lbl_result[\"text\"] = \"Invalid input\"\n",
        "\n",
        "# Create the main window\n",
        "window = tk.Tk()\n",
        "window.title(\"Temperature Converter\")\n",
        "window.resizable(width=False, height=False)\n",
        "\n",
        "# Create a frame for the entry widget and its label\n",
        "frm_entry = tk.Frame(master=window)\n",
        "\n",
        "# Create the entry widget to accept temperature in Fahrenheit\n",
        "ent_temperature = tk.Entry(master=frm_entry, width=10)\n",
        "\n",
        "# Create the label widget to display the degree symbol and \"F\"\n",
        "lbl_temp = tk.Label(master=frm_entry, text=\"\\N{DEGREE FAHRENHEIT}\")\n",
        "\n",
        "# Arrange the entry and label widgets in the frame using grid\n",
        "ent_temperature.grid(row=0, column=0, sticky=\"e\")\n",
        "lbl_temp.grid(row=0, column=1, sticky=\"w\")\n",
        "\n",
        "# Create the convert button\n",
        "btn_convert = tk.Button(master=window, text=\"\\N{RIGHTWARDS BLACK ARROW}\", command=fahrenheit_to_celsius)\n",
        "\n",
        "# Create the label to display the result in Celsius\n",
        "lbl_result = tk.Label(master=window, text=\"\\N{DEGREE CELSIUS}\")\n",
        "\n",
        "# Arrange the frame, button, and result label widgets using grid\n",
        "frm_entry.grid(row=0, column=0, padx=10)\n",
        "btn_convert.grid(row=0, column=1, pady=10)\n",
        "lbl_result.grid(row=0, column=2, padx=10)\n",
        "\n",
        "# Start the application\n",
        "window.mainloop()"
      ]
    }
  ]
}