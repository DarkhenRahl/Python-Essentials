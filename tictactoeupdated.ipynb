{
 "cells": [
  {
   "cell_type": "code",
   "execution_count": null,
   "metadata": {},
   "outputs": [
    {
     "ename": "",
     "evalue": "",
     "output_type": "error",
     "traceback": [
      "\u001b[1;31mRunning cells with 'Python 3.11.4' requires the ipykernel package.\n",
      "\u001b[1;31mRun the following command to install 'ipykernel' into the Python environment. \n",
      "\u001b[1;31mCommand: 'c:/Users/Ayomide/AppData/Local/Programs/Python/Python311/python.exe -m pip install ipykernel -U --user --force-reinstall'"
     ]
    }
   ],
   "source": [
    "import tkinter as tk\n",
    "from tkinter import messagebox\n",
    "\n",
    "# Initialize the main window\n",
    "root = tk.Tk()\n",
    "root.title(\"Rahl's Tic Tac Toe\")\n",
    "root.configure(bg=\"navy\")\n",
    "\n",
    "# Variables to keep track of the game state\n",
    "starting_player = \"X\"\n",
    "current_player = starting_player\n",
    "board = [\" \" for _ in range(9)]\n",
    "buttons = []\n",
    "score_X = 0\n",
    "score_O = 0\n",
    "score_tie = 0\n",
    "is_fullscreen = False\n",
    "\n",
    "# Function to handle button clicks\n",
    "def button_click(index):\n",
    "    global current_player\n",
    "    \n",
    "    if board[index] == \" \":\n",
    "        board[index] = current_player\n",
    "        buttons[index].config(text=current_player, state=\"disabled\", disabledforeground=\"green\" if current_player == \"X\" else \"navy\")\n",
    "        \n",
    "        if check_winner():\n",
    "            update_score(current_player)\n",
    "            messagebox.showinfo(\"Tic Tac Toe\", f\"Player {current_player} wins!\")\n",
    "            reset_board()\n",
    "        elif \" \" not in board:\n",
    "            update_score(None)  # Update the tie score\n",
    "            messagebox.showinfo(\"Tic Tac Toe\", \"It's a draw!\")\n",
    "            reset_board()\n",
    "        else:\n",
    "            current_player = \"O\" if current_player == \"X\" else \"X\"\n",
    "            update_status()"
   ]
  },
  {
   "cell_type": "code",
   "execution_count": null,
   "metadata": {},
   "outputs": [],
   "source": []
  }
 ],
 "metadata": {
  "kernelspec": {
   "display_name": "Python 3",
   "language": "python",
   "name": "python3"
  },
  "language_info": {
   "name": "python",
   "version": "3.8.10"
  }
 },
 "nbformat": 4,
 "nbformat_minor": 2
}
